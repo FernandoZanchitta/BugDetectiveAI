{
 "cells": [
  {
   "cell_type": "code",
   "execution_count": null,
   "id": "5a6b2767",
   "metadata": {},
   "outputs": [],
   "source": [
    "\n",
    "import sys\n",
    "\n",
    "import os\n",
    "sys.path.append(os.path.abspath(os.path.join('..')))\n",
    "\n",
    "import pandas as pd\n",
    "import numpy as np\n",
    "import matplotlib.pyplot as plt\n",
    "import seaborn as sns\n",
    "from data_loader.loader import load_buggy_dataset, load_data\n",
    "from bug_detective.detective import process_prompt_dataset\n",
    "\n",
    "# Add the data_loader module to the path\n",
    "\n",
    "# Import data loader functions\n",
    "\n",
    "# Load sample train data\n",
    "print(\"Loading sample train data...\")\n",
    "\n",
    "# Load buggy train dataset\n",
    "buggy_train_df = load_buggy_dataset('train')\n"
   ]
  },
  {
   "cell_type": "code",
   "execution_count": null,
   "id": "144a4a4c",
   "metadata": {},
   "outputs": [],
   "source": [
    "# Create a unique ID based on function_name, filename, and url\n",
    "buggy_train_df['id'] = buggy_train_df.apply(\n",
    "    lambda row: hash((row['function_name'], row['filename'], row['url'])), \n",
    "    axis=1\n",
    ")\n",
    "\n",
    "# Convert to string and ensure uniqueness\n",
    "buggy_train_df['id'] = buggy_train_df['id'].astype(str)\n",
    "\n",
    "print(f\"Created unique ID column. Shape: {buggy_train_df.shape}\")\n",
    "print(f\"Number of unique IDs: {buggy_train_df['id'].nunique()}\")\n",
    "print(f\"Total rows: {len(buggy_train_df)}\")\n"
   ]
  },
  {
   "cell_type": "code",
   "execution_count": null,
   "id": "90413c38",
   "metadata": {},
   "outputs": [],
   "source": [
    "# Check for rows with repeating id column\n",
    "duplicate_ids = buggy_train_df[buggy_train_df.duplicated(subset=['id'], keep=False)]\n",
    "print(f\"Found {len(duplicate_ids)} rows with duplicate IDs\")\n",
    "print(f\"Number of unique duplicate IDs: {duplicate_ids['id'].nunique()}\")\n",
    "\n",
    "# Display the first few rows with duplicate IDs\n",
    "test_df =duplicate_ids[duplicate_ids['id'] == '3327769774376610081']\n"
   ]
  },
  {
   "cell_type": "code",
   "execution_count": null,
   "id": "6fc2b11e",
   "metadata": {},
   "outputs": [],
   "source": [
    "print(test_df['before_merge_without_docstrings'].iloc[1])"
   ]
  }
 ],
 "metadata": {
  "language_info": {
   "name": "python"
  }
 },
 "nbformat": 4,
 "nbformat_minor": 5
}
